{
 "cells": [
  {
   "cell_type": "markdown",
   "metadata": {},
   "source": [
    "Este documento es un ejemplo de uso de Apache Spark. Spark se puede utilizar a día de hoy con 3 lenguajes de programación: Java, Scala y Python (R está en progreso). Estos ejemplos utilizan Python con Spark (que se llama PySpark)."
   ]
  },
  {
   "cell_type": "markdown",
   "metadata": {},
   "source": [
    "![Foto del logo de Spark](http://docs.sigmoidanalytics.com/images/c/ce/Sparkimage.png \"Optional title\")"
   ]
  },
  {
   "cell_type": "markdown",
   "metadata": {},
   "source": [
    "Una de las ventajas de Spark es que en un mismo programa/script/documento podemos mezclar código nativo en un lenguaje de programación (en este caso Python) con comandos y análisis hechos en Spark. Vamos a comenzar utilizando el Python estándar (sin Spark) para descargarnos unos cuantos tweets (Twitter nos pone el límite en 200). \n",
    "\n",
    "Para hacerlo, importamos la biblioteca de la API de Python para Twitter (hay varias bibliotecas para hacer esto; yo he elegido [python-twitter](https://github.com/bear/python-twitter) que es la que mejor conozco). Importamos la biblioteca y metemos las credenciales de mi cuenta de twitter:"
   ]
  },
  {
   "cell_type": "code",
   "execution_count": 1,
   "metadata": {
    "collapsed": false
   },
   "outputs": [],
   "source": [
    "import twitter\n",
    "\n",
    "api = twitter.Api(consumer_key='cR9gdhHZ0kgtmqVY2qbshD1Ou',\n",
    "                      consumer_secret='dVKQ2T7ARzvqu0E9nMSvhAcsMoacBB1tyUnYn2MyYkE49g9pd9',\n",
    "                      access_token_key='2510805482-usRSfdVL8Ida2MZ9x8A6SHimp0xXid7epWcmqQX',\n",
    "                      access_token_secret='hngBuDRK0WOlsX0RcVA6u4sQO6cLVOe6eNaSt28GLSCUh')"
   ]
  },
  {
   "cell_type": "markdown",
   "metadata": {},
   "source": [
    "Ahora nos descargamos los últimos 200 tweets de [@MSMK_](https://twitter.com/msmk_) y los metemos en una variable llamada `statuses` (es posible que salga un Warning; es porque no estamos utilizando SSL para descargarnos los tweets. Pero no importa):"
   ]
  },
  {
   "cell_type": "code",
   "execution_count": 2,
   "metadata": {
    "collapsed": false
   },
   "outputs": [],
   "source": [
    "statuses = api.GetUserTimeline(screen_name=\"MSMK_\",count=200)"
   ]
  },
  {
   "cell_type": "markdown",
   "metadata": {},
   "source": [
    "Ahora la variable statuses es una lista con 200 tweets. Podemos ver por ejemplo el primero (vemos que el tweet está en formato JSON):"
   ]
  },
  {
   "cell_type": "code",
   "execution_count": 3,
   "metadata": {
    "collapsed": false
   },
   "outputs": [
    {
     "data": {
      "text/plain": [
       "{'created_at': u'Wed Aug 05 15:16:10 +0000 2015',\n",
       " 'favorited': False,\n",
       " 'hashtags': [u'MarketingDigital'],\n",
       " 'id': 628947613270831104L,\n",
       " 'lang': u'es',\n",
       " 'retweeted': False,\n",
       " 'source': u'<a href=\"http://www.hootsuite.com\" rel=\"nofollow\">Hootsuite</a>',\n",
       " 'text': u'Forma parte de un proyecto formativo \\xfanico que a\\xfana las herramientas con la visi\\xf3n estrat\\xe9gica http://t.co/vZLA5J3X5x #MarketingDigital',\n",
       " 'truncated': False,\n",
       " 'urls': {u'http://t.co/vZLA5J3X5x': u'http://ow.ly/PZ3ZT'},\n",
       " 'user': {'created_at': u'Sun Apr 08 11:33:18 +0000 2012',\n",
       "  'description': u'Twitter Oficial de Madrid School of Marketing. Alta especializaci\\xf3n en marketing para BigData Business Intelligence Retail Marketing Digital Ecommerce Branding',\n",
       "  'favourites_count': 2208,\n",
       "  'followers_count': 2522,\n",
       "  'friends_count': 2775,\n",
       "  'geo_enabled': True,\n",
       "  'id': 548355494,\n",
       "  'lang': u'es',\n",
       "  'listed_count': 208,\n",
       "  'location': u'Madrid, Spain ',\n",
       "  'name': u'@MSMK_',\n",
       "  'profile_background_color': u'006FB7',\n",
       "  'profile_background_image_url': u'http://pbs.twimg.com/profile_background_images/563271643275857920/RFmwOHIf.jpeg',\n",
       "  'profile_background_tile': False,\n",
       "  'profile_banner_url': u'https://pbs.twimg.com/profile_banners/548355494/1436868981',\n",
       "  'profile_image_url': u'https://pbs.twimg.com/profile_images/604288874077118464/FbFG7lQ6_normal.jpg',\n",
       "  'profile_link_color': u'3B94D9',\n",
       "  'profile_sidebar_fill_color': u'DDEEF6',\n",
       "  'profile_text_color': u'333333',\n",
       "  'protected': False,\n",
       "  'screen_name': u'MSMK_',\n",
       "  'statuses_count': 11387,\n",
       "  'time_zone': u'London',\n",
       "  'url': u'http://t.co/4c2juzLIr2',\n",
       "  'utc_offset': 3600}}"
      ]
     },
     "execution_count": 3,
     "metadata": {},
     "output_type": "execute_result"
    }
   ],
   "source": [
    "statuses[1].AsDict()"
   ]
  },
  {
   "cell_type": "markdown",
   "metadata": {},
   "source": [
    "Ahora vamos a coger los 200 tweets y vamos a guardarlos en un archivo JSON al que vamos a llamar `tweets.json`:"
   ]
  },
  {
   "cell_type": "code",
   "execution_count": 4,
   "metadata": {
    "collapsed": false
   },
   "outputs": [],
   "source": [
    "import json\n",
    "endict = []\n",
    "for i in statuses:\n",
    "    j = i.AsDict()\n",
    "    endict.append(j)\n",
    "    \n",
    "with open('tweets.json',\"w\") as archivo:\n",
    "    for i in endict:\n",
    "        r = json.dumps(i)\n",
    "        archivo.write(r)\n",
    "        archivo.write(\"\\n\")"
   ]
  },
  {
   "cell_type": "markdown",
   "metadata": {},
   "source": [
    "Hasta ahora lo que hemos hecho ha sido: conectarnos a Twitter, descargarnos 200 tweets y guardarlos en un archivo JSON; y para ello hemos utilizado únicamente Python de forma normal. Es el momento de empezar a usar Spark.\n",
    "\n",
    "Spark, a diferencia de Hadoop MapReduce, nos permite hacer un análisis más interactivo a través de la línea de comandos (o de un Jupyter Notebook en este caso). No obstante, Spark puede correr también como un programa normal estilo MapReduce, ejecutándolo desde la terminal (de forma puntual o periódicamente) y esperando a que nos devuelva el resultado."
   ]
  },
  {
   "cell_type": "markdown",
   "metadata": {},
   "source": [
    "Otra ventaja de Spark es que nos permite utilizar directamente desde Spark algunos de los otros animalitos del zoo, como son Hive y Pig (y otros muchos). Vamos a utilizar Hive.\n",
    "\n",
    "Recordemos que Hive nos permite ejecutar queries/consultas SQL sobre archivos que están en HDFS. Así que vamos a utilizar Hive desde Spark para analizar nuestro archivo `tweets.json` utilizando consultas SQL. \n",
    "\n",
    "**Nota:** todo lo que se hace con archivos desde Spark puede estar **o no** en HDFS; con esto quiero decir que Spark puede leer directamente desde el sistema de archivos normal de nuestro sistema operativo. No obstante, lo ideal es que los archivos que analicemos en Spark estén en HDFS (en la mayoría de los casos).\n",
    "\n",
    "Para utilizar Hive desde Spark, comenzamos por importar algunas bibliotecas de Hive que vienen con nuestra instalación de Spark:"
   ]
  },
  {
   "cell_type": "code",
   "execution_count": 5,
   "metadata": {
    "collapsed": false
   },
   "outputs": [],
   "source": [
    "from pyspark.sql import HiveContext, Row, SQLContext\n",
    "#hv = HiveContext(sc)\n",
    "\n",
    "sql_context = SQLContext(sc)"
   ]
  },
  {
   "cell_type": "markdown",
   "metadata": {},
   "source": [
    "Hemos creado una variable especial `hv` que es lo que se llama un HiveContext (el conector entre Hive y Spark). Ahora le decimos a Hive que el archivo que queremos utilizar es `tweets.json`; y puesto que en Hive tenemos que registrar las tablas antes de utilizarlas, la registramos con el nombre de `tweets_msmk`:"
   ]
  },
  {
   "cell_type": "code",
   "execution_count": 6,
   "metadata": {
    "collapsed": false
   },
   "outputs": [],
   "source": [
    "archivo_de_entrada = sql_context.read.json('tweets.json')\n",
    "archivo_de_entrada.registerTempTable(\"tweets_msmk\")"
   ]
  },
  {
   "cell_type": "markdown",
   "metadata": {},
   "source": [
    "Una vez registrada la tabla, ya podemos utilizar consultas SQL usando Hive.\n",
    "\n",
    "Vamos a coger los 10 tweets más retuiteados:"
   ]
  },
  {
   "cell_type": "code",
   "execution_count": 7,
   "metadata": {
    "collapsed": false
   },
   "outputs": [],
   "source": [
    "topTweets = sql_context.sql(\"\"\"SELECT text, \n",
    "                      retweet_count FROM tweets_msmk \n",
    "                      WHERE retweet_count IS NOT NULL\n",
    "                      ORDER BY retweet_count DESC\n",
    "                      LIMIT 10\n",
    "                      \"\"\")"
   ]
  },
  {
   "cell_type": "markdown",
   "metadata": {},
   "source": [
    "La variable topTweets, que contiene los 10 tweets más retuiteados, es un objeto especial de Spark que solía llamarse SchemaRDD, pero que los desarrolladores han rebautizado recientemente como Spark DataFrame, por sus similitudes con los data frames de R y Python. Pero es un objeto de Spark.\n",
    "\n",
    "*Nota*: los objetos de Spark se llaman RDD (Resilient Distributed Datasets). Un RDD no es más que un dataset distribuido en memoria; de forma que si tenemos 10 ordenadores corriendo Spark y un RDD tiene 100 datos, cada uno de los ordenadores tendrá el 10 por ciento del dataset en su memoria RAM (más redundancias para tolerar posibles fallos de hardware).\n",
    "\n",
    "El Spark DataFrame es uno de los tipos de RDD que vienen con Spark:"
   ]
  },
  {
   "cell_type": "code",
   "execution_count": 8,
   "metadata": {
    "collapsed": false
   },
   "outputs": [
    {
     "data": {
      "text/plain": [
       "DataFrame[text: string, retweet_count: bigint]"
      ]
     },
     "execution_count": 8,
     "metadata": {},
     "output_type": "execute_result"
    }
   ],
   "source": [
    "topTweets"
   ]
  },
  {
   "cell_type": "markdown",
   "metadata": {},
   "source": [
    "Ahora podemos \"traernos\" el DataFrame topTweets desde Spark a Python haciendo `collect()`, lo cual nos permite ver su contenido:\n",
    "\n",
    "**Nota:** en este ejemplo no tenemos problema en \"traernos\" el contenido de una consulta Hive a Python, puesto que solo son 10 tweets. Si la consulta, en vez de 10 tweets nos devolviera 10 millones, nuestro ordenador moriría."
   ]
  },
  {
   "cell_type": "code",
   "execution_count": 9,
   "metadata": {
    "collapsed": false
   },
   "outputs": [
    {
     "data": {
      "text/plain": [
       "[Row(text=u'RT @yodominguez: Ellas enfermas y muertas. Ellos superh\\xe9roes y jefes. Los ni\\xf1os dejan en evidencia al mundo de la #moda #ni\\xf1osvsmoda http:/\\u2026', retweet_count=22),\n",
       " Row(text=u'RT @AliciaDavara: #Comercio. Donde quiera que el cliente est\\xe9. Esencia #MadridRetailCongress  febrero 2016 2\\xaa edici\\xf3n http://t.co/sndBt5tO1\\u2026', retweet_count=8),\n",
       " Row(text=u'RT @Ecommerce_es: El #RealMadrid lanza su tienda online en el gigante chino #Tmall.com http://t.co/uYnEJkWyXs @realmadrid', retweet_count=4),\n",
       " Row(text=u'As\\xed fue la II Feria de #Empleo de #BigData donde presentamos el observatorio de empleo con @ticjob http://t.co/uerTL6yjja', retweet_count=3),\n",
       " Row(text=u'RT @FutureBrand_Es: #FelizMartes de #branding: No te pierdas la expo de #AlbertoCoraz\\xf3n http://t.co/PN9JsDoW0T http://t.co/YG8feWvkzh v\\xeda @\\u2026', retweet_count=3),\n",
       " Row(text=u'RT @Interactiv_a: Inversi\\xf3n en #marketing y #publicidad crece y se consolida por 1\\xaa vez con datos positivos para el global del a\\xf1o http://t\\u2026', retweet_count=3),\n",
       " Row(text=u'RT @GravCero: Ma\\xf1ana Jueves a las 7pm hablaremos de #creatividad, #marketingdeguerrilla, ... Evento abierto y gratuito! #Madrid  https://t.\\u2026', retweet_count=3),\n",
       " Row(text=u'RT @Masterexperienc: Jueves Meeting day  \\xbfCu\\xe1ntas ideas nuevas has tenido hoy para generar experiencias de marca \\xfanicas? con @jcortecero ht\\u2026', retweet_count=3),\n",
       " Row(text=u'RT @Masterexperienc: En Madrid no tenemos playa...pero tenemos otros planes mucho m\\xe1s creativos: Este jueves Masterclass con @jcortecero ht\\u2026', retweet_count=3),\n",
       " Row(text=u'Arquitectura t\\xe9cnica del #BigData seg\\xfan IBM http://t.co/WfZvI43hRj #Libro', retweet_count=3)]"
      ]
     },
     "execution_count": 9,
     "metadata": {},
     "output_type": "execute_result"
    }
   ],
   "source": [
    "topTweets.collect()"
   ]
  },
  {
   "cell_type": "markdown",
   "metadata": {},
   "source": [
    "Ahora vamos a hacer otra consulta Hive. En ella nos vamos a quedar con el texto de cada tweet y sus retweets, para los 200 tweets que tenemos:"
   ]
  },
  {
   "cell_type": "code",
   "execution_count": 10,
   "metadata": {
    "collapsed": false
   },
   "outputs": [],
   "source": [
    "textoDeTweets = sql_context.sql(\"\"\"SELECT text, retweet_count FROM tweets_msmk\"\"\")"
   ]
  },
  {
   "cell_type": "markdown",
   "metadata": {},
   "source": [
    "Vale; ya tenemos solo el texto y retweets de los 200 tweets en una variable llamada `textoDeTweets` (que es un Spark DataFrame/RDD). Vamos a hacer el famoso wordcount en Spark.\n",
    "\n",
    "Conclusiones hasta el momento: hemos utilizado Python y la API de Twitter para descargarnos 200 tweets y guardarlos en un archivo JSON. Luego, hemos utilizado Hive para lanzar consultas SQL sobre ese JSON, y los resultados de esas consultas los guardamos en DataFrames (RDDs) de Spark. Ahora vamos a operar sobre uno de esos RDDs en Spark, haciendo un wordcount."
   ]
  },
  {
   "cell_type": "markdown",
   "metadata": {},
   "source": [
    "Empezamos haciendo un map en Spark para quedarnos solo con el texto y \"pasar\" de los retweets:"
   ]
  },
  {
   "cell_type": "code",
   "execution_count": 11,
   "metadata": {
    "collapsed": false
   },
   "outputs": [],
   "source": [
    "cadatexto = textoDeTweets.map(lambda x: x.text)"
   ]
  },
  {
   "cell_type": "markdown",
   "metadata": {},
   "source": [
    "Veamos qué ha hecho Spark utilizando de nuevo `collect`, y mostrando solo las primeras 10 líneas (para no saturar el documento con 200 líneas de texto):"
   ]
  },
  {
   "cell_type": "code",
   "execution_count": 12,
   "metadata": {
    "collapsed": false
   },
   "outputs": [
    {
     "data": {
      "text/plain": [
       "[u'5 tendencias sobre el contenido de marca http://t.co/PQphlDnVsz por @javierregueira #Branding',\n",
       " u'Forma parte de un proyecto formativo \\xfanico que a\\xfana las herramientas con la visi\\xf3n estrat\\xe9gica http://t.co/vZLA5J3X5x #MarketingDigital',\n",
       " u'\\xbfQu\\xe9 compra el consumidor espa\\xf1ol online? http://t.co/Ad9zBpqTSS v\\xeda @PuroMarketing',\n",
       " u'Mobile Addiction; \\xbftendencia, amenaza u oportunidad? http://t.co/urRAmiz2j2 v\\xeda @daretail',\n",
       " u'Descubre qui\\xe9nes son los aut\\xe9nticos superh\\xe9roes del #BigData y sus superpoderes. http://t.co/0pfO4LJRfb',\n",
       " u'Antes de ser un logo, una #marca es un contenedor de significado http://t.co/U504cnTAwJ v\\xeda @ReasonW CC @brandsmith_esp @Emeritomartinez',\n",
       " u'La Ruta de Scouting fue una de las actividades extraaced\\xe9micas de los alumnos de Moda y Lujo http://t.co/r7bMJA5RNW http://t.co/DLLKh8PKIZ',\n",
       " u'Las 10 herramientas imprescindibles para el #DataScientist http://t.co/CeQHHTrFxW #BigData',\n",
       " u'Elabora el plan de #marketing y lidera los retos de los centros educativos http://t.co/GyOjwgZmzn con @Malabar_Mkt',\n",
       " u'\\xbfEst\\xe1 tu comercio adaptado al consumidor multipantalla? http://t.co/FzMSeuU2kd v\\xeda @daretail']"
      ]
     },
     "execution_count": 12,
     "metadata": {},
     "output_type": "execute_result"
    }
   ],
   "source": [
    "cadatexto.collect()[:10]"
   ]
  },
  {
   "cell_type": "markdown",
   "metadata": {},
   "source": [
    "Podemos ver que ya tenemos algo muy similar a lo que tendríamos en un archivo en HDFS (un montón de líneas, cada una con un texto), con la diferencia de que, puesto que estamos en Spark, dichas líneas están distribuidas en memoria y no en disco duro.\n",
    "\n",
    "Ahora, hagamos otro map. Esta vez, uno que nos separe cada palabra:"
   ]
  },
  {
   "cell_type": "code",
   "execution_count": 13,
   "metadata": {
    "collapsed": false
   },
   "outputs": [],
   "source": [
    "separado = cadatexto.flatMap(lambda x: x.split())"
   ]
  },
  {
   "cell_type": "markdown",
   "metadata": {},
   "source": [
    "Comprobamos (mostrando las primeras 20 palabras):"
   ]
  },
  {
   "cell_type": "code",
   "execution_count": 14,
   "metadata": {
    "collapsed": false
   },
   "outputs": [
    {
     "data": {
      "text/plain": [
       "[u'5',\n",
       " u'tendencias',\n",
       " u'sobre',\n",
       " u'el',\n",
       " u'contenido',\n",
       " u'de',\n",
       " u'marca',\n",
       " u'http://t.co/PQphlDnVsz',\n",
       " u'por',\n",
       " u'@javierregueira',\n",
       " u'#Branding',\n",
       " u'Forma',\n",
       " u'parte',\n",
       " u'de',\n",
       " u'un',\n",
       " u'proyecto',\n",
       " u'formativo',\n",
       " u'\\xfanico',\n",
       " u'que',\n",
       " u'a\\xfana']"
      ]
     },
     "execution_count": 14,
     "metadata": {},
     "output_type": "execute_result"
    }
   ],
   "source": [
    "separado.collect()[:20]"
   ]
  },
  {
   "cell_type": "markdown",
   "metadata": {},
   "source": [
    "Y ahora vamos a tirar más de \"filosofía MapReduce\". Podéis ver que en el resultado anterior hemos separado por palabras, pero que no existe ningún tipo de clave-valor (solo clave; cada palabra). Para hacer un wordcount suele ser útil tener los datos en pares clave-valor, así que vamos a darle valor a cada clave con otro map (un 1 a cada clave):"
   ]
  },
  {
   "cell_type": "code",
   "execution_count": 15,
   "metadata": {
    "collapsed": false
   },
   "outputs": [
    {
     "data": {
      "text/plain": [
       "[(u'5', 1),\n",
       " (u'tendencias', 1),\n",
       " (u'sobre', 1),\n",
       " (u'el', 1),\n",
       " (u'contenido', 1),\n",
       " (u'de', 1),\n",
       " (u'marca', 1),\n",
       " (u'http://t.co/PQphlDnVsz', 1),\n",
       " (u'por', 1),\n",
       " (u'@javierregueira', 1),\n",
       " (u'#Branding', 1),\n",
       " (u'Forma', 1),\n",
       " (u'parte', 1),\n",
       " (u'de', 1),\n",
       " (u'un', 1),\n",
       " (u'proyecto', 1),\n",
       " (u'formativo', 1),\n",
       " (u'\\xfanico', 1),\n",
       " (u'que', 1),\n",
       " (u'a\\xfana', 1)]"
      ]
     },
     "execution_count": 15,
     "metadata": {},
     "output_type": "execute_result"
    }
   ],
   "source": [
    "clave_valor = separado.map(lambda x: (x, 1))\n",
    "\n",
    "clave_valor.collect()[:20]"
   ]
  },
  {
   "cell_type": "markdown",
   "metadata": {},
   "source": [
    "Eso está mejor. Ahora ya podemos hacer un reduce. En Spark, hay varios tipos de reduce distintos. En este ejemplo, vamos a utilizar el equivalente al de Hadoop MapReduce, que en Spark resulta llamarse `reduceByKey`:"
   ]
  },
  {
   "cell_type": "code",
   "execution_count": 16,
   "metadata": {
    "collapsed": false
   },
   "outputs": [
    {
     "data": {
      "text/plain": [
       "[(u'futuro:', 1),\n",
       " (u'sushi,', 1),\n",
       " (u'Seg\\xfan', 1),\n",
       " (u'@ReasonW', 9),\n",
       " (u'\\xbfy', 1),\n",
       " (u'8,4%', 1),\n",
       " (u'observatorio', 1),\n",
       " (u'pide', 1),\n",
       " (u'aniversario.', 1),\n",
       " (u'ciudad', 1),\n",
       " (u'gana', 1),\n",
       " (u'@josecantero', 2),\n",
       " (u'espa\\xf1oles', 2),\n",
       " (u'http://t.co/uPeVIETTLY', 1),\n",
       " (u'http://t.co/pCwGVEWdWY', 1),\n",
       " (u'prometedor', 1),\n",
       " (u'habla', 1),\n",
       " (u'seg\\xfan', 4),\n",
       " (u'hablaremos', 1),\n",
       " (u'http://t.co/EYfDIRTMXo', 1)]"
      ]
     },
     "execution_count": 16,
     "metadata": {},
     "output_type": "execute_result"
    }
   ],
   "source": [
    "reducido = clave_valor.reduceByKey(lambda x,y: x + y)\n",
    "\n",
    "reducido.collect()[:20]"
   ]
  },
  {
   "cell_type": "markdown",
   "metadata": {},
   "source": [
    "¡Y ya está terminado nuestro wordcount sobre los 200 tweets! Vamos a ordenarlos de mayor a menor:"
   ]
  },
  {
   "cell_type": "code",
   "execution_count": 17,
   "metadata": {
    "collapsed": false
   },
   "outputs": [
    {
     "data": {
      "text/plain": [
       "[(u'de', 163),\n",
       " (u'en', 95),\n",
       " (u'y', 67),\n",
       " (u'v\\xeda', 65),\n",
       " (u'el', 59),\n",
       " (u'la', 51),\n",
       " (u'con', 45),\n",
       " (u'a', 38),\n",
       " (u'del', 34),\n",
       " (u'RT', 33),\n",
       " (u'las', 31),\n",
       " (u'los', 31),\n",
       " (u'@jcortecero', 30),\n",
       " (u'que', 27),\n",
       " (u'para', 27),\n",
       " (u'un', 26),\n",
       " (u'El', 21),\n",
       " (u'por', 21),\n",
       " (u'm\\xe1s', 18),\n",
       " (u'#Branding', 14)]"
      ]
     },
     "execution_count": 17,
     "metadata": {},
     "output_type": "execute_result"
    }
   ],
   "source": [
    "reducido_y_ordenado = reducido.sortBy(lambda x: x[1], ascending=False)\n",
    "\n",
    "reducido_y_ordenado.collect()[:20]"
   ]
  },
  {
   "cell_type": "markdown",
   "metadata": {},
   "source": [
    "Para demostrar de nuevo la interactividad entre Python y Spark, vamos a traernos esas 20 top words a una variable Python a la que vamos a llamar `resultados`:"
   ]
  },
  {
   "cell_type": "code",
   "execution_count": 18,
   "metadata": {
    "collapsed": true
   },
   "outputs": [],
   "source": [
    "resultados = reducido_y_ordenado.collect()[:20]"
   ]
  },
  {
   "cell_type": "markdown",
   "metadata": {},
   "source": [
    "Resulta que Python, al igual que R, tiene muchas bibliotecas para hacer análisis de datos (ojo: no de forma paralela y distribuida como Hadoop MapReduce y Spark), así como para visualizar los datos. Vamos a utilizar [numpy](http://www.numpy.org/), [pandas](http://pandas.pydata.org/) y [matplotlib](http://matplotlib.org/) para hacer un barplot de los resultados de nuestro wordcount:"
   ]
  },
  {
   "cell_type": "code",
   "execution_count": 19,
   "metadata": {
    "collapsed": false
   },
   "outputs": [
    {
     "data": {
      "text/plain": [
       "<matplotlib.axes.AxesSubplot at 0xb024176c>"
      ]
     },
     "execution_count": 19,
     "metadata": {},
     "output_type": "execute_result"
    },
    {
     "data": {
      "image/png": "[encoded data removed]",
      "text/plain": [
       "<matplotlib.figure.Figure at 0xb024106c>"
      ]
     },
     "metadata": {},
     "output_type": "display_data"
    }
   ],
   "source": [
    "%matplotlib inline\n",
    "import matplotlib.pyplot as plt\n",
    "import numpy\n",
    "import pandas\n",
    "\n",
    "# matplotlib viene con una biblioteca para que el estilo\n",
    "# de los gráficos sea como el de ggplot de R:\n",
    "#plt.style.use(\"ggplot\")\n",
    "\n",
    "lista_de_keys = []\n",
    "lista_de_values = []\n",
    "\n",
    "for cadatupla in resultados:\n",
    "    lista_de_keys.append(cadatupla[0])\n",
    "    lista_de_values.append(cadatupla[1])\n",
    "    \n",
    "tablita = pandas.DataFrame({\"Numero de veces\": lista_de_values},\n",
    "                          index = lista_de_keys)\n",
    "\n",
    "tablita.plot(kind=\"bar\", figsize=(16,9))"
   ]
  },
  {
   "cell_type": "markdown",
   "metadata": {
    "collapsed": true
   },
   "source": [
    "Spark es capaz de hacer más operaciones aparte de map y reduce. No obstante, en la práctica los maps y reduces suelen ser lo más eficaz en la mayoría de los casos.\n",
    "\n",
    "Excepto cuando quieres meterte más en el tema de data mining y machine learning..."
   ]
  },
  {
   "cell_type": "markdown",
   "metadata": {
    "collapsed": true
   },
   "source": [
    "##Data Mining con Spark MLlib"
   ]
  },
  {
   "cell_type": "markdown",
   "metadata": {},
   "source": [
    "Spark incluye una biblioteca de datamining y machine learning que se llama MLlib.\n",
    "\n",
    "MLlib es un conjunto de funciones que permiten realizar modelos en Spark de forma distribuida.\n",
    "\n",
    "Vamos a hacer como ejemplo un modelo que intente predecir el número de retweets que tendría un tweet en el caso de ser publicado. Para ello, volvemos a utilizar la variable `textoDeTweets` (nuestra segunda consulta de Hive). Pero antes de poder hacer el modelo, tenemos que preocuparnos de limpiar los datos."
   ]
  },
  {
   "cell_type": "markdown",
   "metadata": {},
   "source": [
    "Resulta que el el JSON de un tweet de Twitter que no ha tenido ningún retweet, ni siquiera aparece el campo `retweet_count`. Hive lo sabe, así que en los tweets que no han sido retuiteados el tweet_count es igual a `None`. Pero `None` es una palabra en vez de un número lo cual complicaría la realización del modelo; preferiríamos que en vez de `None` fuera un 0..."
   ]
  },
  {
   "cell_type": "code",
   "execution_count": 20,
   "metadata": {
    "collapsed": false
   },
   "outputs": [
    {
     "data": {
      "text/plain": [
       "[Row(text=u'5 tendencias sobre el contenido de marca http://t.co/PQphlDnVsz por @javierregueira #Branding', retweet_count=1),\n",
       " Row(text=u'Forma parte de un proyecto formativo \\xfanico que a\\xfana las herramientas con la visi\\xf3n estrat\\xe9gica http://t.co/vZLA5J3X5x #MarketingDigital', retweet_count=None),\n",
       " Row(text=u'\\xbfQu\\xe9 compra el consumidor espa\\xf1ol online? http://t.co/Ad9zBpqTSS v\\xeda @PuroMarketing', retweet_count=None),\n",
       " Row(text=u'Mobile Addiction; \\xbftendencia, amenaza u oportunidad? http://t.co/urRAmiz2j2 v\\xeda @daretail', retweet_count=None),\n",
       " Row(text=u'Descubre qui\\xe9nes son los aut\\xe9nticos superh\\xe9roes del #BigData y sus superpoderes. http://t.co/0pfO4LJRfb', retweet_count=None),\n",
       " Row(text=u'Antes de ser un logo, una #marca es un contenedor de significado http://t.co/U504cnTAwJ v\\xeda @ReasonW CC @brandsmith_esp @Emeritomartinez', retweet_count=None),\n",
       " Row(text=u'La Ruta de Scouting fue una de las actividades extraaced\\xe9micas de los alumnos de Moda y Lujo http://t.co/r7bMJA5RNW http://t.co/DLLKh8PKIZ', retweet_count=None),\n",
       " Row(text=u'Las 10 herramientas imprescindibles para el #DataScientist http://t.co/CeQHHTrFxW #BigData', retweet_count=1),\n",
       " Row(text=u'Elabora el plan de #marketing y lidera los retos de los centros educativos http://t.co/GyOjwgZmzn con @Malabar_Mkt', retweet_count=1),\n",
       " Row(text=u'\\xbfEst\\xe1 tu comercio adaptado al consumidor multipantalla? http://t.co/FzMSeuU2kd v\\xeda @daretail', retweet_count=None)]"
      ]
     },
     "execution_count": 20,
     "metadata": {},
     "output_type": "execute_result"
    }
   ],
   "source": [
    "textoDeTweets.collect()[:10]"
   ]
  },
  {
   "cell_type": "markdown",
   "metadata": {},
   "source": [
    "¿Lo ves? Vamos a hacer un map que coja las líneas que tienen `None` y los convierta en `0`:"
   ]
  },
  {
   "cell_type": "code",
   "execution_count": 21,
   "metadata": {
    "collapsed": false
   },
   "outputs": [],
   "source": [
    "textoDeTweets_con_ceros = textoDeTweets.map(lambda x: (x.text, 0) if \n",
    "                                            x.retweet_count==None else \n",
    "                                            (x.text, x.retweet_count))"
   ]
  },
  {
   "cell_type": "code",
   "execution_count": 22,
   "metadata": {
    "collapsed": false
   },
   "outputs": [
    {
     "data": {
      "text/plain": [
       "[(u'5 tendencias sobre el contenido de marca http://t.co/PQphlDnVsz por @javierregueira #Branding',\n",
       "  1),\n",
       " (u'Forma parte de un proyecto formativo \\xfanico que a\\xfana las herramientas con la visi\\xf3n estrat\\xe9gica http://t.co/vZLA5J3X5x #MarketingDigital',\n",
       "  0),\n",
       " (u'\\xbfQu\\xe9 compra el consumidor espa\\xf1ol online? http://t.co/Ad9zBpqTSS v\\xeda @PuroMarketing',\n",
       "  0),\n",
       " (u'Mobile Addiction; \\xbftendencia, amenaza u oportunidad? http://t.co/urRAmiz2j2 v\\xeda @daretail',\n",
       "  0),\n",
       " (u'Descubre qui\\xe9nes son los aut\\xe9nticos superh\\xe9roes del #BigData y sus superpoderes. http://t.co/0pfO4LJRfb',\n",
       "  0),\n",
       " (u'Antes de ser un logo, una #marca es un contenedor de significado http://t.co/U504cnTAwJ v\\xeda @ReasonW CC @brandsmith_esp @Emeritomartinez',\n",
       "  0),\n",
       " (u'La Ruta de Scouting fue una de las actividades extraaced\\xe9micas de los alumnos de Moda y Lujo http://t.co/r7bMJA5RNW http://t.co/DLLKh8PKIZ',\n",
       "  0),\n",
       " (u'Las 10 herramientas imprescindibles para el #DataScientist http://t.co/CeQHHTrFxW #BigData',\n",
       "  1),\n",
       " (u'Elabora el plan de #marketing y lidera los retos de los centros educativos http://t.co/GyOjwgZmzn con @Malabar_Mkt',\n",
       "  1),\n",
       " (u'\\xbfEst\\xe1 tu comercio adaptado al consumidor multipantalla? http://t.co/FzMSeuU2kd v\\xeda @daretail',\n",
       "  0)]"
      ]
     },
     "execution_count": 22,
     "metadata": {},
     "output_type": "execute_result"
    }
   ],
   "source": [
    "textoDeTweets_con_ceros.collect()[:10]"
   ]
  },
  {
   "cell_type": "markdown",
   "metadata": {},
   "source": [
    "Ahora ya podemos comenzar a minar. Por los caracteres alfanuméricos raros como palabras con tilde, que arriba salen feos, no hay que preocuparse. A pesar de que salen escritos de forma fea, Spark los entiende perfectamente. Para comprobarlo, cojamos el tercer tweet e imprimámoslo en bonito:"
   ]
  },
  {
   "cell_type": "code",
   "execution_count": 23,
   "metadata": {
    "collapsed": false
   },
   "outputs": [
    {
     "name": "stdout",
     "output_type": "stream",
     "text": [
      "¿Qué compra el consumidor español online? http://t.co/Ad9zBpqTSS vía @PuroMarketing\n"
     ]
    }
   ],
   "source": [
    "print(textoDeTweets_con_ceros.collect()[2][0])"
   ]
  },
  {
   "cell_type": "markdown",
   "metadata": {},
   "source": [
    "Reconoce bien tildes y signos de interrogación. No hay problema entonces. Podemos continuar.\n",
    "\n",
    "Vamos a realizar un conjunto de regresiones lineales para intentar predecir el número de retweets. Para ello, tenemos que hacer una serie de trasformaciones del dataset (pares de tweets y retweets) utilizando para ello la API de Spark SQL. A pesar de que se llama Spark SQL, no tiene por qué estar relacionado con SQL o bases de datos relacionales. Sirve más que nada para dar una estructura a nuestro RDD (dataset). Por ejemplo, tenemos que convertir cada `retweet_count` de número entero a número decimal (lo que sería un float de Python o un numeric de R).\n",
    "\n",
    "Una vez hecho, ya tenemos nuestro dataset completamente preparado, en un RDD al que vamos a llamar `dataset_limpio`:"
   ]
  },
  {
   "cell_type": "code",
   "execution_count": 24,
   "metadata": {
    "collapsed": false
   },
   "outputs": [],
   "source": [
    "RDD_limpio = textoDeTweets_con_ceros.map(lambda x: (x[0], float(x[1])))\n",
    "\n",
    "from pyspark.sql import SQLContext, Row\n",
    "from pyspark.sql.types import StructType, StructField, StringType, DoubleType\n",
    "\n",
    "tableContext = SQLContext(sc)\n",
    "\n",
    "\n",
    "esquema = StructType([\n",
    "        StructField(\"texto\", StringType(), True),\n",
    "        StructField(\"retweets\", DoubleType(), True)])\n",
    "\n",
    "dataset_limpio = tableContext.createDataFrame(RDD_limpio, schema=esquema)"
   ]
  },
  {
   "cell_type": "markdown",
   "metadata": {},
   "source": [
    "Lo que vamos a hacer no deja de ser un ejercicio de text mining. En el text mining, tenemos que comenzar por convertir el texto a números que nuestro algoritmo pueda entender. Para ello, separamos cada tweet en las palabras que lo forman, normalizadas (convirtiendo todo a minúsculas y eliminando espacios) utilizando para eso el `Tokenizer` de Spark MLlib. Esto nos devuelve un array de palabras por cada tweet. \n",
    "\n",
    "Para convertir palabras a vectores numéricos existen muchas técnicas. Una de las más extendidas y efectivas es el algoritmo TF (Term-Frequency). TF computa un vector de frecuencia de términos de un tamaño dado. Para \"mapear\" términos a índices del vector, la implementación TF de Spark MLlib (`HashingTF`) utiliza una técnica llamada *hashing trick*. Spark convierte cada palabra a un hash (una purrela de letras y números) utilizando como modulo (matemático) un vector de un tamaño $T$, y mapea entonces cada palabra a un número entre $0$ y $T-1$. Esta técnica nos devuelve siempre un vector $T$-dimensional.\n",
    "\n",
    "Dicho más fácil: cada palabra se transforma en un vector con muchos números. A este vector se le suele llamar en data mining *feature vector*. Nosotros le llamamos \"features\" en este ejemplo:"
   ]
  },
  {
   "cell_type": "code",
   "execution_count": 25,
   "metadata": {
    "collapsed": false
   },
   "outputs": [],
   "source": [
    "from pyspark.ml.feature import HashingTF, Tokenizer\n",
    "\n",
    "tokenizer = Tokenizer().setInputCol(\"texto\").setOutputCol(\"palabras\")\n",
    "\n",
    "tf = HashingTF().setInputCol(\"palabras\").setOutputCol(\"features\")"
   ]
  },
  {
   "cell_type": "markdown",
   "metadata": {},
   "source": [
    "O sea: hemos cogido cada uno de los 200 tweets, los hemos separadao por palabras y hemos aplicado `HashingTF`.\n",
    "\n",
    "Puesto que ya tenemos el texto transformado a números, ya podemos aplicar modelos de data mining. Como dije anteriormente, vamos a aplicar regresión lineal (que debería sonaros de SAS):"
   ]
  },
  {
   "cell_type": "code",
   "execution_count": 26,
   "metadata": {
    "collapsed": false
   },
   "outputs": [],
   "source": [
    "from pyspark.ml.regression import LinearRegression\n",
    "\n",
    "regresion = LinearRegression(featuresCol=\"features\",labelCol=\"retweets\")"
   ]
  },
  {
   "cell_type": "markdown",
   "metadata": {},
   "source": [
    "Desde la versión 1.2 de Spark se ha estado trabajando en un modelo de pipelining, con el objetivo de hacer más sencillo el proceso de minado de datos para los programadores. \n",
    "\n",
    "Si estás acostumbrado a SAS (ya sea el Enterprise Miner o e Text Miner), sabrás que en SAS vas cogiendo nodos con modelos y transformaciones, y los vas uniendo con flechas; de forma que los datos que salen de un nodo son los datos de entrada del siguiente. \n",
    "\n",
    "Podemos hacer lo mismo con Spark, utilizando para ello el Pipeline de Spark MLlib. Si os fijáis en el código anterior, podemos ver:\n",
    "\n",
    "1. El `Tokenizer` recibe una columna llamada \"texto\", y devuelve una columna llamada \"palabras\" (un array de las palabras de cada tweet).\n",
    "2. Nuestro `HashingTF` recibe la columna \"palabras\" del paso anterior, y devuelve otra llamada \"features\".\n",
    "3. Nuestra regresión recibe \"features\", y una `labelCol`, que no es más que el número de retweets en sí.\n",
    "\n",
    "Lo tenemos muy sencillo para construir el diagrama. Utilizamos `Pipeline` de MLlib, y le ponemos el orden que queremos que siga el proceso (primero el Tokenizer, luego el TF, y luego la regresión):"
   ]
  },
  {
   "cell_type": "code",
   "execution_count": 27,
   "metadata": {
    "collapsed": false
   },
   "outputs": [],
   "source": [
    "from pyspark.ml import Pipeline\n",
    "\n",
    "pipeline = Pipeline().setStages([tokenizer, tf, regresion])"
   ]
  },
  {
   "cell_type": "markdown",
   "metadata": {},
   "source": [
    "Ya tenemos entonces el camino a seguir. Pero todavía no hemos hablado de validación, ni de comparación de modelos. En este ejemplo vamos a realizar muchos modelos distintos, aunque de momento no lo parezca. \n",
    "\n",
    "Por ejemplo: dentro de la técnica de `HashingTF`, deberíamos definir distintas formas de hacerla, y ver cuál es la que mejor funciona. Ya comentamos que el resultado de TF depende del tamaño de vector $T$ que elijamos. En la bibliografía sobre el tema se suele recomendar un $T$ de entre $2^{10}$ y $2^{30}$. Así que nosotros vamos a definir tamaños de $T$ entre 10.000 y 90.000, de 10.000 en 10.000.\n",
    "\n",
    "Por otro lado, para la regresión podemos definir el número de iteraciones que queramos que haga el algoritmo. Ponemos un mínimo de 30, máximo de 300, aumentando de 50 en 50.\n",
    "\n",
    "De modo que ya tenemos una gran cantidad de modelos, puesto que Spark hace todas las combinaciones posibles, buscando la que mejor funciona:\n",
    "\n",
    "+ TF de 10.000 + regresión de 30 iteraciones\n",
    "+ TF de 10.000 + regresión de 80 iteraciones\n",
    "+ TF de 20.000 + regresión de 30 iteraciones\n",
    "+ TF de 20.000 + regresión de 80 iteraciones\n",
    "+ TF de 10.000 + regresión de 130 iteraciones\n",
    "+ TF de 20.000 + regresión de 130 iteraciones\n",
    "+ TF de 30.000 + regresión de 30 iteraciones\n",
    "+ TF de 30.000 + regresión de 80 iteraciones\n",
    "+ TF de 30.000 + regresión de 130 iteraciones\n",
    "\n",
    "Etcétera etcétera.\n",
    "\n",
    "Una vez construidos todos esos modelos (48 para ser exactos), hay que validar para comprobar cuál es el que mejor funciona. Si bien en SAS se suele separar antes una parte del dataset para validación, cuando tenemos gran cantidad de datos (Big Data) suele ser mejor utilizar técnicas especiales de validación que no nos obligan a separar parte del dataset, sino que hace validaciones implícitas. Una de las más utilizadas es la validación cruzada (*Cross Validation*), que en el caso de Spark utiliza la técnica K-fold (separación dinámica de una parte K de dataset).\n",
    "\n",
    "En el código de abajo definimos primero todas las combinaciones de modelos, y luego efectuamos la validación cruzada. Como medida de la validación utilizamos el error cuadrático medio (\"mse\"):"
   ]
  },
  {
   "cell_type": "code",
   "execution_count": 28,
   "metadata": {
    "collapsed": false
   },
   "outputs": [],
   "source": [
    "from pyspark.ml.tuning import CrossValidator, ParamGridBuilder\n",
    "from pyspark.ml.evaluation import RegressionEvaluator\n",
    "\n",
    "pool_de_modelos = ParamGridBuilder() \\\n",
    "    .addGrid(tf.numFeatures, range(10000,90000,10000)) \\\n",
    "    .addGrid(regresion.maxIter, range(30, 300, 50)) \\\n",
    "    .build()\n",
    "\n",
    "evaluador_regresion = RegressionEvaluator(predictionCol=\"prediction\", labelCol=\"retweets\", metricName=\"mse\")\n",
    "\n",
    "validador = CrossValidator() \\\n",
    "    .setEstimator(pipeline) \\\n",
    "    .setEstimatorParamMaps(pool_de_modelos) \\\n",
    "    .setEvaluator(evaluador_regresion)"
   ]
  },
  {
   "cell_type": "markdown",
   "metadata": {},
   "source": [
    "Cuando ejecutemos el código de abajo será, en realidad, cuando se computen los modelos siguiendo el diagrama definido en nuestra pipeline, generando todas las combinaciones, validando los modelos y quedándose con el mejor:"
   ]
  },
  {
   "cell_type": "code",
   "execution_count": 29,
   "metadata": {
    "collapsed": false
   },
   "outputs": [],
   "source": [
    "dataset_limpio.cache()\n",
    "mejor_modelo = validador.fit(dataset_limpio)"
   ]
  },
  {
   "cell_type": "markdown",
   "metadata": {},
   "source": [
    "La variable `mejor_modelo` contiene el modelo \"ganador\", es decir, el que mejor resultado ha dado tras construir todos los modelos y la validación. Una vez elegido el modelo ganador, vamos a aplicarlo para predecir el número de retweets que tendrían una serie de tweets que nos vamos a inventar, en el caso de que fueran publicados por @MSMK_:"
   ]
  },
  {
   "cell_type": "code",
   "execution_count": 40,
   "metadata": {
    "collapsed": false
   },
   "outputs": [
    {
     "data": {
      "text/html": [
       "<div>\n",
       "<table border=\"1\" class=\"dataframe\">\n",
       "  <thead>\n",
       "    <tr style=\"text-align: right;\">\n",
       "      <th></th>\n",
       "      <th>Tweet</th>\n",
       "      <th>Prediccion de retweets</th>\n",
       "    </tr>\n",
       "  </thead>\n",
       "  <tbody>\n",
       "    <tr>\n",
       "      <th>0</th>\n",
       "      <td>Muchas gracias a todos los que estais dia a di...</td>\n",
       "      <td>0</td>\n",
       "    </tr>\n",
       "    <tr>\n",
       "      <th>1</th>\n",
       "      <td>Hadoop</td>\n",
       "      <td>0</td>\n",
       "    </tr>\n",
       "    <tr>\n",
       "      <th>2</th>\n",
       "      <td>La historia de los JJOO a traves de sus logotipos</td>\n",
       "      <td>0</td>\n",
       "    </tr>\n",
       "  </tbody>\n",
       "</table>\n",
       "</div>"
      ],
      "text/plain": [
       "                                               Tweet  Prediccion de retweets\n",
       "0  Muchas gracias a todos los que estais dia a di...                       0\n",
       "1                                             Hadoop                       0\n",
       "2  La historia de los JJOO a traves de sus logotipos                       0"
      ]
     },
     "execution_count": 40,
     "metadata": {},
     "output_type": "execute_result"
    }
   ],
   "source": [
    "tweets_hipoteticos = sc.parallelize([(\"Muchas gracias a todos los que estais dia a dia en las redes sociales #personas #FelizLunes\",),\n",
    "                                    (\"Hadoop\",),\n",
    "                                    (\"La historia de los JJOO a traves de sus logotipos\",),\n",
    "                                    ])\n",
    "\n",
    "# Los preparamos para meterlos en el modelo:\n",
    "tweets_hipoteticos = tableContext.createDataFrame(tweets_hipoteticos, schema=[\"texto\"])\n",
    "\n",
    "# Y los metemos:\n",
    "predicciones = mejor_modelo.transform(tweets_hipoteticos)[[\"texto\",\"prediction\"]].collect()\n",
    "\n",
    "\n",
    "# Construimos una tablita con los resultados:\n",
    "predicciones_en_tablita = pandas.DataFrame(numpy.asarray(predicciones))\n",
    "predicciones_en_tablita.columns = [\"Tweet\", \"Prediccion de retweets\"]\n",
    "predicciones_en_tablita[\"Prediccion de retweets\"]=numpy.trunc(\n",
    "                                                    predicciones_en_tablita[\"Prediccion de retweets\"]\\\n",
    "                                                    .astype(\"float\"))\n",
    "predicciones_en_tablita"
   ]
  },
  {
   "cell_type": "markdown",
   "metadata": {
    "collapsed": true
   },
   "source": [
    "¡Espero que te haya gustado!"
   ]
  },
  {
   "cell_type": "code",
   "execution_count": null,
   "metadata": {
    "collapsed": true
   },
   "outputs": [],
   "source": []
  }
 ],
 "metadata": {
  "kernelspec": {
   "display_name": "Python 2",
   "language": "python",
   "name": "python2"
  },
  "language_info": {
   "codemirror_mode": {
    "name": "ipython",
    "version": 2
   },
   "file_extension": ".py",
   "mimetype": "text/x-python",
   "name": "python",
   "nbconvert_exporter": "python",
   "pygments_lexer": "ipython2",
   "version": "2.7.6"
  }
 },
 "nbformat": 4,
 "nbformat_minor": 0
}
